{
 "cells": [
  {
   "cell_type": "markdown",
   "metadata": {},
   "source": [
    "# Get Tweets in Real Time using Twitter API"
   ]
  },
  {
   "cell_type": "code",
   "execution_count": null,
   "metadata": {
    "collapsed": true
   },
   "outputs": [],
   "source": [
    "import tweepy"
   ]
  },
  {
   "cell_type": "code",
   "execution_count": null,
   "metadata": {
    "collapsed": true
   },
   "outputs": [],
   "source": [
    "import json"
   ]
  },
  {
   "cell_type": "code",
   "execution_count": null,
   "metadata": {
    "collapsed": true
   },
   "outputs": [],
   "source": [
    "import socket"
   ]
  },
  {
   "cell_type": "markdown",
   "metadata": {},
   "source": [
    "To connect to Twitter API, we need these 4 Keys. \n",
    "It can be generated from https://apps.twitter.com/ by creating a new app."
   ]
  },
  {
   "cell_type": "code",
   "execution_count": null,
   "metadata": {
    "collapsed": true
   },
   "outputs": [],
   "source": [
    "consumer_key = 't0O1DuEyMcDpFsJRLYzAXfIZd'\n",
    "consumer_secret = 'trcnjqVLPp1LNXqBcAHjA1M5RLorlNnpDxKWDrNCVhW82aktuR'\n",
    "token_key='2341567088-0n5AEvesiUL34b0vKZUWJ91MJkNFAHFnGMxfRUo'\n",
    "token_secret='SkaxZb0dRD0lixXNcGdTCVcTXaasZ13OkQHkhnD5VhUI1'"
   ]
  },
  {
   "cell_type": "code",
   "execution_count": null,
   "metadata": {
    "collapsed": true
   },
   "outputs": [],
   "source": [
    "auth = tweepy.OAuthHandler(consumer_key,consumer_secret)\n",
    "auth.set_access_token(token_key,token_secret)"
   ]
  },
  {
   "cell_type": "markdown",
   "metadata": {},
   "source": [
    "#### Class my_stream_listener\n",
    "    1.It is listening to the stream via StreamListener. \n",
    "    2.constrctor function (init) : initializing the socket. \n",
    "    3.data contains the tweets json coming from the stream. \n",
    "    4.In this json object field 'text' contains the actual Tweet.\n",
    "    5.The actual tweet is extracted & sent to the client socket.\n",
    "    6.Error handling is done to catch & throw errors."
   ]
  },
  {
   "cell_type": "code",
   "execution_count": null,
   "metadata": {
    "collapsed": true
   },
   "outputs": [],
   "source": [
    "class my_stream_listener(tweepy.StreamListener):\n",
    "    def __init__(self,csocket):\n",
    "        self.client_socket=csocket   \n",
    "    def on_data(self,data):\n",
    "        try:\n",
    "            tweets = json.loads(data)\n",
    "            print(\"Twetter text     : \",tweets['text'].encode('utf-8'))\n",
    "            #print(\"user screen name: \",tweets[\"user\"][\"screen_name\"].encode('utf-8'))\n",
    "            self.client_socket.send(tweets['text'].encode('utf-8'))\n",
    "        except BaseException as e:\n",
    "            print(\"the exception: %s\"% str(e))\n",
    "        return True\n",
    "    def on_error(self,status):\n",
    "        print(error)\n",
    "        return True"
   ]
  },
  {
   "cell_type": "markdown",
   "metadata": {},
   "source": [
    "### Function SendData():\n",
    "    1. auth is doing Authentication check using OAuthHandler. It uses 4 keys of Twitter APIs.\n",
    "    2. consumer_key & consumer_secret are like username & access_token & access_secret are like password.\n",
    "    3. twitter_stream will get the actual twitter live stream data.\n",
    "    4. It'll call Stream with auth & call the Class TweetsListner & pass c_socket info to the class.\n",
    "    5. From the stream of tweets, filter is used to filter tweets related to iphone."
   ]
  },
  {
   "cell_type": "code",
   "execution_count": null,
   "metadata": {
    "collapsed": true
   },
   "outputs": [],
   "source": [
    "def send(socket):\n",
    "    twitterStream = tweepy.Stream(auth,my_stream_listener(socket))\n",
    "    twitterStream.filter(track=['iphone'])\n",
    "    #twitterStream.filter(track=['gigafiber'],languages=[\"en\"])"
   ]
  },
  {
   "cell_type": "markdown",
   "metadata": {},
   "source": [
    "### Socket Creation:\n",
    "    1. Socket is created by using socket function.\n",
    "    2. Host is localhost, which in our case is IP of Cloudxlab, where this Jupyter notebook is running.\n",
    "    3. Port is 6782 (It can be anything, unique for this service)\n",
    "    4. Now bind host & port address to the socket."
   ]
  },
  {
   "cell_type": "code",
   "execution_count": null,
   "metadata": {
    "collapsed": true
   },
   "outputs": [],
   "source": [
    "ser_socket = socket.socket()"
   ]
  },
  {
   "cell_type": "code",
   "execution_count": null,
   "metadata": {
    "collapsed": true
   },
   "outputs": [],
   "source": [
    "ser_socket.bind((\"127.0.0.1\",6782))"
   ]
  },
  {
   "cell_type": "markdown",
   "metadata": {},
   "source": [
    "socket will wait & listen for few seconds. <br>\n",
    "After that connection is made."
   ]
  },
  {
   "cell_type": "code",
   "execution_count": null,
   "metadata": {
    "collapsed": true
   },
   "outputs": [],
   "source": [
    "ser_socket.listen(5)"
   ]
  },
  {
   "cell_type": "code",
   "execution_count": null,
   "metadata": {
    "collapsed": true
   },
   "outputs": [],
   "source": [
    "conn_socket,addr = ser_socket.accept()"
   ]
  },
  {
   "cell_type": "code",
   "execution_count": null,
   "metadata": {},
   "outputs": [],
   "source": [
    "print(\"client address\", addr)"
   ]
  },
  {
   "cell_type": "markdown",
   "metadata": {},
   "source": [
    "### Send live Tweets in real time to the Socket\n",
    "Function sendData will send all the Tweets  to socket 'c' in real time.<br>\n",
    "This will be consumed in the next code of Spark Streaming to do sentiment Analysis."
   ]
  },
  {
   "cell_type": "code",
   "execution_count": null,
   "metadata": {},
   "outputs": [],
   "source": [
    "send(conn_socket)"
   ]
  }
 ],
 "metadata": {
  "kernelspec": {
   "display_name": "Python 3",
   "language": "python",
   "name": "python3"
  },
  "language_info": {
   "codemirror_mode": {
    "name": "ipython",
    "version": 3
   },
   "file_extension": ".py",
   "mimetype": "text/x-python",
   "name": "python",
   "nbconvert_exporter": "python",
   "pygments_lexer": "ipython3",
   "version": "3.6.5"
  }
 },
 "nbformat": 4,
 "nbformat_minor": 2
}
