{
 "cells": [
  {
   "cell_type": "markdown",
   "metadata": {},
   "source": [
    "# Get Tweets in Real Time using Twitter API"
   ]
  },
  {
   "cell_type": "markdown",
   "metadata": {},
   "source": [
    "We are using Tweepy library to route all the Live tweets to a TCP socket server.<br> \n",
    "This server is hosted in Local Machine.<br>\n",
    "Import tweepy library<br>\n",
    "Import OAuthHandler.<br> It is used for Authentication protocol (OAuth) of Twitter API.<br>\n",
    "Import Stream & StreamListner.<br> This actually listen to streaming data getting from the socket.<br>\n",
    "Import socket. It is used to create socket connection with Localhost i.e. local server. <br>\n",
    "Json is used because twitter data comes in json format.<br>\n"
   ]
  },
  {
   "cell_type": "code",
   "execution_count": null,
   "metadata": {
    "collapsed": true
   },
   "outputs": [],
   "source": [
    "import os\n",
    "import tweepy\n",
    "from tweepy import OAuthHandler\n",
    "from tweepy import Stream\n",
    "from tweepy.streaming import StreamListener\n",
    "import socket\n",
    "import json"
   ]
  },
  {
   "cell_type": "markdown",
   "metadata": {},
   "source": [
    "To connect to Twitter API, we need these 4 Keys. \n",
    "It can be generated from https://apps.twitter.com/ by creating a new app."
   ]
  },
  {
   "cell_type": "code",
   "execution_count": null,
   "metadata": {
    "collapsed": true
   },
   "outputs": [],
   "source": [
    "consumer_key    = 't0O1DuEyMcDpFsJRLYzAXfIZd'\n",
    "consumer_secret = 'trcnjqVLPp1LNXqBcAHjA1M5RLorlNnpDxKWDrNCVhW82aktuR'\n",
    "access_token    = '2341567088-0n5AEvesiUL34b0vKZUWJ91MJkNFAHFnGMxfRUo'\n",
    "access_secret   = 'SkaxZb0dRD0lixXNcGdTCVcTXaasZ13OkQHkhnD5VhUI1'"
   ]
  },
  {
   "cell_type": "markdown",
   "metadata": {},
   "source": [
    "#### Class TweetsListner\n",
    "    1.It is listening to the stream via StreamListener. \n",
    "    2.constrctor function (init) : initializing the socket. \n",
    "    3.data contains the tweets json coming from the stream. \n",
    "    4.In this json object field 'text' contains the actual Tweet.\n",
    "    5.The actual tweet is extracted & sent to the client socket.\n",
    "    6.Error handling is done to catch & throw errors."
   ]
  },
  {
   "cell_type": "code",
   "execution_count": null,
   "metadata": {
    "collapsed": true
   },
   "outputs": [],
   "source": [
    "class TweetsListener(StreamListener):\n",
    "    def __init__(self, csocket):\n",
    "        self.client_socket = csocket\n",
    "    def on_data(self, data):\n",
    "        try:\n",
    "            msg = json.loads( data )\n",
    "            print(msg['user']['screen_name'].encode('utf-8'))\n",
    "            print( msg['text'].encode('utf-8') )\n",
    "            print( msg['created_at'].encode('utf-8') )\n",
    "            self.client_socket.send( msg['text'].encode('utf-8') )\n",
    "            return True\n",
    "        except BaseException as e:\n",
    "            print(\"Error on_data: %s\" % str(e))\n",
    "        return True\n",
    "    def on_error(self, status):\n",
    "        print(status)\n",
    "        return True"
   ]
  },
  {
   "cell_type": "markdown",
   "metadata": {},
   "source": [
    "### Function SendData():\n",
    "    1. auth is doing Authentication check using OAuthHandler. It uses 4 keys of Twitter APIs.\n",
    "    2. consumer_key & consumer_secret are like username & access_token & access_secret are like password.\n",
    "    3. twitter_stream will get the actual twitter live stream data.\n",
    "    4. It'll call Stream with auth & call the Class TweetsListner & pass c_socket info to the class.\n",
    "    5. From the stream of tweets, sample() method helps in getting whole corpus of tweets."
   ]
  },
  {
   "cell_type": "code",
   "execution_count": null,
   "metadata": {
    "collapsed": true
   },
   "outputs": [],
   "source": [
    "def sendData(c_socket):\n",
    "    auth = OAuthHandler(consumer_key, consumer_secret)\n",
    "    auth.set_access_token(access_token, access_secret)\n",
    "    twitter_stream = Stream(auth, TweetsListener(c_socket))\n",
    "    twitter_stream.sample()\n",
    "    #twitter_stream.filter(track=['india'])"
   ]
  },
  {
   "cell_type": "markdown",
   "metadata": {},
   "source": [
    "### Socket Creation:\n",
    "    1. Socket is created by using socket function.\n",
    "    2. Host is localhost, which in our case is IP of Cloudxlab, where this Jupyter notebook is running.\n",
    "    3. Port is 6782 (It can be anything, unique for this service)\n",
    "    4. Now bind host & port address to the socket."
   ]
  },
  {
   "cell_type": "code",
   "execution_count": null,
   "metadata": {},
   "outputs": [],
   "source": [
    "s = socket.socket()     # Create a socket object\n",
    "host = \"127.0.0.1\"      # Get local machine name\n",
    "port = 6782            # Reserve a port for your service.\n",
    "s.bind((host, port))    # Bind to the port\n",
    "print(\"Listening on port: %s\" % str(port))"
   ]
  },
  {
   "cell_type": "markdown",
   "metadata": {},
   "source": [
    "socket will wait & listen for few seconds. <br>\n",
    "After that connection is made."
   ]
  },
  {
   "cell_type": "code",
   "execution_count": null,
   "metadata": {
    "collapsed": true
   },
   "outputs": [],
   "source": [
    "s.listen(5)                 # Now wait for client connection.\n",
    "c, addr = s.accept()        # Establish connection with client.\n",
    "print( \"Received request from: \" + str( addr ) )"
   ]
  },
  {
   "cell_type": "markdown",
   "metadata": {},
   "source": [
    "### Send live Tweets in real time to the Socket\n",
    "Function sendData will send all the Tweets  to socket 'c' in real time.<br>\n",
    "This will be consumed in the next code of Spark Streaming to do Trending topic Analysis."
   ]
  },
  {
   "cell_type": "code",
   "execution_count": null,
   "metadata": {},
   "outputs": [],
   "source": [
    "sendData( c )"
   ]
  }
 ],
 "metadata": {
  "kernelspec": {
   "display_name": "Python 3",
   "language": "python",
   "name": "python3"
  },
  "language_info": {
   "codemirror_mode": {
    "name": "ipython",
    "version": 3
   },
   "file_extension": ".py",
   "mimetype": "text/x-python",
   "name": "python",
   "nbconvert_exporter": "python",
   "pygments_lexer": "ipython3",
   "version": "3.6.5"
  }
 },
 "nbformat": 4,
 "nbformat_minor": 2
}
